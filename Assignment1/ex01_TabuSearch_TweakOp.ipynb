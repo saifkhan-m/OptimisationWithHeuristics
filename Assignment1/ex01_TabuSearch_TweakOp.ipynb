{
 "cells": [
  {
   "cell_type": "markdown",
   "metadata": {},
   "source": [
    "# Search Based Software Engineering\n",
    "## Exercise 01 - Traveling Salesman Problem Introduction\n",
    "### by André Karge - andre.karge[at]uni-weimar.de"
   ]
  },
  {
   "cell_type": "markdown",
   "metadata": {},
   "source": [
    "The Traveling Salesman Problem (TSP) is given by the following question: *“Given is a list of cities and distances between each pair of cities - what is the shortest route that visits each city and returns to the original city?”*\n",
    "\n",
    "The TSP is an **NP-Hard-Problem** which does not mean an instance of the  problem will be hard to solve. It means, there does not exist an algorithm that produces the best solution in polynomial time. We can not make predictions about how long it might take to find the best solution.\n",
    "\n",
    "But, we can find a good solution which might not be the best solution. It is ok to find a route amongst 1000 cities that is only few miles longer than the best route. Particularly, if it would take an inordinate amount amount of computing time to get from our good solution to the best solution."
   ]
  },
  {
   "cell_type": "markdown",
   "metadata": {},
   "source": [
    "![germany TSP](./TSP_Deutschland_3.png)"
   ]
  },
  {
   "cell_type": "markdown",
   "metadata": {},
   "source": [
    "## Representation of the Problem"
   ]
  },
  {
   "cell_type": "markdown",
   "metadata": {},
   "source": [
    "<img src=\"./Graph_TSP.png\" align=\"left\">\n",
    "A TSP can be modelled as an undirected weighted graph:\n",
    "        - cities = vertices\n",
    "        - paths between cities = edges\n",
    "        - distance of a path = weight of an edge\n",
    "<!--![graph](./Graph_TSP.png)-->"
   ]
  },
  {
   "cell_type": "markdown",
   "metadata": {},
   "source": [
    "This graph can be represented as an **Adjacency matrix**:\n",
    "\n",
    "\n",
    "|  \\     | A     | B     | C     | D     |\n",
    "| :---:  | :---: | :---: | :---: | :---: |\n",
    "| **A**  |  0    | 20    | 42    | 35    |\n",
    "| **B**  | 20    | 0     | 30    | 34    |\n",
    "| **C**  | 42    | 30    | 0     | 12    |\n",
    "| **D**  | 35    | 34    | 12    | 0     |"
   ]
  },
  {
   "cell_type": "markdown",
   "metadata": {},
   "source": [
    "But how do we get the distances between cities if we only got the coordinates for each city?"
   ]
  },
  {
   "cell_type": "markdown",
   "metadata": {},
   "source": [
    "Each city is represented by a cartesian koordinate P\n",
    "\n",
    "$ P = (p_x, p_y) $"
   ]
  },
  {
   "cell_type": "markdown",
   "metadata": {},
   "source": [
    "### Euclidean Distance"
   ]
  },
  {
   "cell_type": "markdown",
   "metadata": {},
   "source": [
    "Euclidean distance between two points P<sub>1</sub> = (x<sub>1</sub>, y<sub>1</sub>) and P<sub>2</sub> = (x<sub>2</sub>, y<sub>2</sub>) is:\n",
    "\n",
    "$d(P_{1},P_{2}) = \\sqrt{(x_{1} - x_{2})^2 + (y_{1} - y_{2})^2}$"
   ]
  },
  {
   "cell_type": "code",
   "execution_count": 1,
   "metadata": {},
   "outputs": [],
   "source": [
    "from itertools import permutations"
   ]
  },
  {
   "cell_type": "code",
   "execution_count": 2,
   "metadata": {},
   "outputs": [],
   "source": [
    "def distance(p1, p2):\n",
    "    \"\"\"\n",
    "    Returns the Euclidean distance of two points in the Cartesian Plane.\n",
    "\n",
    "    >>> distance([3,4],[0,0])\n",
    "    5.0\n",
    "    \n",
    "    \"\"\"\n",
    "    return ((p1[0] - p2[0])**2 + (p1[1] - p2[1])**2) ** 0.5"
   ]
  },
  {
   "cell_type": "code",
   "execution_count": 3,
   "metadata": {},
   "outputs": [
    {
     "name": "stdout",
     "output_type": "stream",
     "text": [
      "4.0\n"
     ]
    }
   ],
   "source": [
    "print(distance([3,6],[7,6]))"
   ]
  },
  {
   "cell_type": "code",
   "execution_count": 4,
   "metadata": {},
   "outputs": [],
   "source": [
    "def total_distance(points):\n",
    "    \"\"\"\n",
    "    Returns the length of the path passing throught\n",
    "    all the points in the given order.\n",
    "\n",
    "    >>> total_distance([[1,2],[4,6]])\n",
    "    5.0\n",
    "    >>> total_distance([[3,6],[7,6],[12,6]])\n",
    "    9.0\n",
    "    \"\"\"\n",
    "    return sum([distance(point, points[index + 1]) for index, point in enumerate(points[:-1])])"
   ]
  },
  {
   "cell_type": "markdown",
   "metadata": {},
   "source": [
    "- keep in mind that \\[:-1\\] means \"all elements of the list without the last\"\n",
    "- *enumerate* is a function to enumerate all elements of a given sequence"
   ]
  },
  {
   "cell_type": "code",
   "execution_count": 5,
   "metadata": {},
   "outputs": [
    {
     "name": "stdout",
     "output_type": "stream",
     "text": [
      "[(0, 'spring'), (1, 'summer'), (2, 'fall'), (3, 'winter')]\n"
     ]
    }
   ],
   "source": [
    "# enumerate example\n",
    "seasons = ['spring', 'summer', 'fall', 'winter']\n",
    "print(list(enumerate(seasons)))"
   ]
  },
  {
   "cell_type": "code",
   "execution_count": 6,
   "metadata": {},
   "outputs": [],
   "source": [
    "def traveling_salesman(points, start = None):\n",
    "    \"\"\"\n",
    "    Finds the shortest route to visit all the cities by bruteforce.\n",
    "    Time complexity is O(N!), so never use on long lists.\n",
    "\n",
    "    >>> travelling_salesman([[0,0],[10,0],[6,0]])\n",
    "    ([0, 0], [6, 0], [10, 0])\n",
    "    >>> travelling_salesman([[0,0],[6,0],[2,3],[3,7],[0.5,9],[3,5],[9,1]])\n",
    "    ([0, 0], [6, 0], [9, 1], [2, 3], [3, 5], [3, 7], [0.5, 9])\n",
    "    \"\"\"\n",
    "    if start is None:\n",
    "        start = points[0]\n",
    "    return min([perm for perm in permutations(points) if perm[0] == start], key = total_distance)"
   ]
  },
  {
   "cell_type": "markdown",
   "metadata": {},
   "source": [
    "**keep in mind that the permutation without repitition creates $ \\frac{n!}{(n-r)!} $ examples**\n",
    "\n",
    "where n is the amount of elements in the set and r is the number of elements we choose from the set\n",
    "\n",
    "That means if we have a list of 4 elements we have 24 possible combinations:\n",
    "\n",
    "$ |perm([a,b,c,d])| = \\frac{4!}{(4-4)!} = \\frac{4!}{0!} = \\frac{4!}{1} = 24 $"
   ]
  },
  {
   "cell_type": "code",
   "execution_count": 7,
   "metadata": {},
   "outputs": [
    {
     "name": "stdout",
     "output_type": "stream",
     "text": [
      "('a', 'b', 'c', 'd')\n",
      "('a', 'b', 'd', 'c')\n",
      "('a', 'c', 'b', 'd')\n",
      "('a', 'c', 'd', 'b')\n",
      "('a', 'd', 'b', 'c')\n",
      "('a', 'd', 'c', 'b')\n",
      "('b', 'a', 'c', 'd')\n",
      "('b', 'a', 'd', 'c')\n",
      "('b', 'c', 'a', 'd')\n",
      "('b', 'c', 'd', 'a')\n",
      "('b', 'd', 'a', 'c')\n",
      "('b', 'd', 'c', 'a')\n",
      "('c', 'a', 'b', 'd')\n",
      "('c', 'a', 'd', 'b')\n",
      "('c', 'b', 'a', 'd')\n",
      "('c', 'b', 'd', 'a')\n",
      "('c', 'd', 'a', 'b')\n",
      "('c', 'd', 'b', 'a')\n",
      "('d', 'a', 'b', 'c')\n",
      "('d', 'a', 'c', 'b')\n",
      "('d', 'b', 'a', 'c')\n",
      "('d', 'b', 'c', 'a')\n",
      "('d', 'c', 'a', 'b')\n",
      "('d', 'c', 'b', 'a')\n"
     ]
    }
   ],
   "source": [
    "# Example for permutations\n",
    "test_list = [\"a\", \"b\", \"c\", \"d\"]\n",
    "test_permutations = permutations(test_list)\n",
    "for test_perm in test_permutations:\n",
    "    print(test_perm)"
   ]
  },
  {
   "cell_type": "markdown",
   "metadata": {},
   "source": [
    "- *permutations* returns tuples with all possible orderings without repeat\n",
    "- function returns minimum of all possible tuples by the help of the function *total_distance* from above"
   ]
  },
  {
   "cell_type": "code",
   "execution_count": 8,
   "metadata": {},
   "outputs": [
    {
     "name": "stdout",
     "output_type": "stream",
     "text": [
      "calculation time 0:00:00.144008\n",
      "\n",
      "    The minimum distance to visit all \n",
      "    of the following points:\n",
      "\n",
      "    [[0, 0], [1, 5.7], [2, 3], [3, 7], [0.5, 9], [3, 5], [9, 1], [10, 5]]\n",
      "    \n",
      "    starting at\n",
      "    [0, 0] is 25.90302275027582 and takes this\n",
      "    route:\n",
      "    ([0, 0], [2, 3], [3, 5], [1, 5.7], [0.5, 9], [3, 7], [10, 5], [9, 1])\n"
     ]
    }
   ],
   "source": [
    "import datetime\n",
    "def main():\n",
    "    points = [\n",
    "        [0, 0],\n",
    "        [1, 5.7],\n",
    "        [2, 3],\n",
    "        [3, 7],\n",
    "        [0.5, 9],\n",
    "        [3, 5],\n",
    "        [9, 1],\n",
    "        [10, 5],\n",
    "        [20, 5],\n",
    "        [12, 12],\n",
    "        [20, 19],\n",
    "        [25, 6],\n",
    "        [23, 7]\n",
    "    ]\n",
    "    \n",
    "    points = points[:-5]\n",
    "    #points = points[:-4]\n",
    "    #points = points[:-3]\n",
    "    #points = points[:-2]\n",
    "              \n",
    "    \n",
    "    then = datetime.datetime.now()\n",
    "    result = traveling_salesman(points)\n",
    "    distance_result = total_distance(result)\n",
    "    now = datetime.datetime.now()\n",
    "    print(\"calculation time\", now - then)\n",
    "    print(\"\"\"\n",
    "    The minimum distance to visit all \n",
    "    of the following points:\\n\n",
    "    {0}\n",
    "    \n",
    "    starting at\n",
    "    {1} is {2} and takes this\n",
    "    route:\n",
    "    {3}\"\"\".format(\n",
    "        points,\n",
    "        points[0],\n",
    "        distance_result,\n",
    "        result))\n",
    "\n",
    "if __name__ == \"__main__\":\n",
    "    main()"
   ]
  },
  {
   "cell_type": "markdown",
   "metadata": {},
   "source": [
    "## Solving TSP with Hill Climbing"
   ]
  },
  {
   "cell_type": "markdown",
   "metadata": {},
   "source": [
    "#### Recap: Hill Climbing"
   ]
  },
  {
   "cell_type": "markdown",
   "metadata": {},
   "source": [
    "Idea:\n",
    "- use only your local solution and evaluate your \n",
    "neighbors to find a better one\n",
    "- repeat this step until no better neighbor exists\n",
    "\n",
    "Pros:\n",
    "- requires few resources (current state and neighbors)\n",
    "- finds local optimum (global is possible)\n",
    "- useful if the search space is huge (even unlimited)\n",
    "\n",
    "Cons:\n",
    "\n",
    "- is prone to get stuck at the top of local maximum and on plateaus\n",
    "- strongly depends on “good” initialization\n",
    "\n",
    "We will use standard Python lists to represent a route through our collection of cities. Each city will simply be assigned to a number from 0 to N-1 where N is the number of cities. Therefore, our list of cities will be a list of uniquie numbers between 0 and N-1"
   ]
  },
  {
   "cell_type": "markdown",
   "metadata": {},
   "source": [
    "![HC](./HC.jpg)"
   ]
  },
  {
   "cell_type": "markdown",
   "metadata": {},
   "source": [
    "#### Adjacency Matrix"
   ]
  },
  {
   "cell_type": "markdown",
   "metadata": {},
   "source": [
    "We also need to specify a \"distance matrix\" that we can use to keep track of distances between cities. To generate a distance matrix for a set of (x,y) coordinates we will use the following function:"
   ]
  },
  {
   "cell_type": "code",
   "execution_count": 9,
   "metadata": {},
   "outputs": [],
   "source": [
    "def cartesian_matrix(coordinates):\n",
    "    '''\n",
    "    Creates a distance matrix for the city coords using straight line distances\n",
    "    computed by the Euclidean distance of two points in the Cartesian Plane.\n",
    "    '''\n",
    "    matrix = {}\n",
    "    for i, p1 in enumerate(coordinates):\n",
    "        for j, p2 in enumerate(coordinates):\n",
    "            matrix[i,j] = distance(p1,p2)\n",
    "    return matrix"
   ]
  },
  {
   "cell_type": "markdown",
   "metadata": {},
   "source": [
    "This function takes a list of (x,y) tuples and outputs a dictionary that contains the distance between any pair of cities:"
   ]
  },
  {
   "cell_type": "code",
   "execution_count": 10,
   "metadata": {},
   "outputs": [
    {
     "name": "stdout",
     "output_type": "stream",
     "text": [
      "(0, 0) 0.0\n",
      "(0, 1) 1.0\n",
      "(0, 2) 1.4142135623730951\n",
      "(1, 0) 1.0\n",
      "(1, 1) 0.0\n",
      "(1, 2) 1.0\n",
      "(2, 0) 1.4142135623730951\n",
      "(2, 1) 1.0\n",
      "(2, 2) 0.0\n",
      "\n",
      "1.4142135623730951\n"
     ]
    }
   ],
   "source": [
    "m = cartesian_matrix([(0,0), (1,0), (1,1)])\n",
    "for k, v in m.items():\n",
    "    print(k, v)\n",
    "print()\n",
    "print(m[2,0])"
   ]
  },
  {
   "cell_type": "markdown",
   "metadata": {},
   "source": [
    "\\[2,0\\] gives the distance between the city with number 2 and the city with  number 0.\n",
    "In our case the result of \\[2,0\\] is the same for \\[0,2\\], but for other TSPs this may not be the case (for example if a street between two cities is only one way - we have to take another route)"
   ]
  },
  {
   "cell_type": "markdown",
   "metadata": {},
   "source": [
    "#### Read City Coordinates from File"
   ]
  },
  {
   "cell_type": "code",
   "execution_count": 11,
   "metadata": {},
   "outputs": [],
   "source": [
    "def read_coords(file_handle):\n",
    "    coords = []\n",
    "    for line in file_handle:\n",
    "        x,y = line.strip().split(',')\n",
    "        coords.append((float(x), float(y)))\n",
    "    return coords\n",
    "\n",
    "with open('city100.txt', 'r') as coord_file:\n",
    "    coords = read_coords(coord_file)\n",
    "matrix = cartesian_matrix(coords)"
   ]
  },
  {
   "cell_type": "markdown",
   "metadata": {},
   "source": [
    "On real world problems it may be more complicated to generate a distance matrix - you might need to take a map and calculate the real distances between cities."
   ]
  },
  {
   "cell_type": "markdown",
   "metadata": {},
   "source": [
    "#### Compute the Total Distance"
   ]
  },
  {
   "cell_type": "code",
   "execution_count": 12,
   "metadata": {},
   "outputs": [],
   "source": [
    "def tour_length(matrix, tour):\n",
    "    \"\"\"Sum up the total length of the tour based on the distance matrix\"\"\"\n",
    "    result = 0\n",
    "    num_cities = len(list(tour))\n",
    "    for i in range(num_cities):\n",
    "        j = (i+1) % num_cities\n",
    "        city_i = tour[i]\n",
    "        city_j = tour[j]\n",
    "        result += matrix[city_i, city_j]\n",
    "    return result"
   ]
  },
  {
   "cell_type": "markdown",
   "metadata": {},
   "source": [
    "#### Implementing Tweak Operators"
   ]
  },
  {
   "cell_type": "markdown",
   "metadata": {},
   "source": [
    "We will implement the two tweak operators as generator functions that will return all possible versions of a route that can be made in one step of the generator (in a random order)."
   ]
  },
  {
   "cell_type": "markdown",
   "metadata": {},
   "source": [
    "Generators are iterators which can be only iterated once.\n",
    "They generate values on the fly and do not store them in memory.\n",
    "By using a generator function, we can get each possiblility and perhaps decide to not generate any more variations.\n",
    "This saves the overhead of generating all combinations at once."
   ]
  },
  {
   "cell_type": "code",
   "execution_count": 13,
   "metadata": {},
   "outputs": [],
   "source": [
    "import random\n",
    "\n",
    "def all_pairs(size, shuffle = random.shuffle):\n",
    "    r1 = list(range(size))\n",
    "    r2 = list(range(size))\n",
    "    if shuffle:\n",
    "        shuffle(r1)\n",
    "        shuffle(r2)\n",
    "    for i in r1:\n",
    "        for j in r2:\n",
    "            yield(i,j) # yield is an iterator function\n",
    "            # for each call of the generator it returns the next value in yield"
   ]
  },
  {
   "cell_type": "code",
   "execution_count": 14,
   "metadata": {
    "scrolled": true
   },
   "outputs": [
    {
     "name": "stdout",
     "output_type": "stream",
     "text": [
      "start tour swap: [1, 2, 3, 4]\n",
      "[4, 2, 3, 1]\n",
      "[2, 1, 3, 4]\n",
      "[3, 2, 1, 4]\n",
      "[1, 2, 4, 3]\n",
      "[1, 4, 3, 2]\n",
      "[1, 3, 2, 4]\n",
      "\n",
      "start tour reverse section: [1, 2, 3, 4]\n",
      "[1, 3, 2, 4]\n",
      "[4, 3, 1, 2]\n",
      "[1, 4, 3, 2]\n",
      "[2, 3, 4, 1]\n",
      "[3, 4, 2, 1]\n",
      "[2, 1, 3, 4]\n",
      "[3, 2, 1, 4]\n",
      "[4, 3, 2, 1]\n",
      "[4, 2, 3, 1]\n",
      "[4, 1, 2, 3]\n",
      "[1, 2, 4, 3]\n"
     ]
    }
   ],
   "source": [
    "from copy import deepcopy\n",
    "\n",
    "# Tweak 1\n",
    "def swapped_cities(tour):\n",
    "    \"\"\"\n",
    "    Generator to create all possible variations where two \n",
    "    cities have been swapped\n",
    "    \"\"\"\n",
    "    ap = all_pairs(len(tour))\n",
    "    for i,j in ap:\n",
    "        if i < j:\n",
    "            copy = deepcopy(tour)\n",
    "            copy[i], copy[j] = tour[j], tour[i]\n",
    "            yield copy\n",
    "\n",
    "# Tweak 2\n",
    "def reversed_sections(tour):\n",
    "    \"\"\"\n",
    "    Generator to return all possible variations where the\n",
    "    section between two cities are swapped.\n",
    "    It preserves entire sections of a route,\n",
    "    yet still affects the ordering of multiple cities in one go.\n",
    "    \"\"\"\n",
    "    ap = all_pairs(len(tour))\n",
    "    for i,j in ap:\n",
    "        if i != j:\n",
    "            #print(\"indices from:\",i, \"to\", j)\n",
    "            copy = deepcopy(tour)\n",
    "            if i < j:\n",
    "                copy[i:j+1] = reversed(tour[i:j+1])\n",
    "            else:\n",
    "                copy[i+1:] = reversed(tour[:j])\n",
    "                copy[:j] = reversed(tour[i+1:])\n",
    "            if copy != tour: # not returning same tour\n",
    "                yield copy\n",
    "# usage\n",
    "print(\"start tour swap:\",[1,2,3,4])\n",
    "for tour in swapped_cities([1,2,3,4]):\n",
    "    print(tour)\n",
    "print()\n",
    "print(\"start tour reverse section:\",[1,2,3,4])\n",
    "for tour in reversed_sections([1,2,3,4]):\n",
    "    print(tour)"
   ]
  },
  {
   "cell_type": "code",
   "execution_count": 15,
   "metadata": {},
   "outputs": [],
   "source": [
    "# New Tweak Operator"
   ]
  },
  {
   "cell_type": "code",
   "execution_count": 16,
   "metadata": {},
   "outputs": [],
   "source": [
    "import random\n",
    "import copy\n",
    "\n",
    "def rev_city(tour):\n",
    "    new_tour = copy.deepcopy(tour)\n",
    "    i = random.randint(0,len(tour))\n",
    "    j = random.randint(0,len(tour))\n",
    "    if(i!=j):\n",
    "        new_tour[min(i,j) : max(i,j)] = tour[min(i,j) : max(i,j)][::-1]\n",
    "    return new_tour"
   ]
  },
  {
   "cell_type": "code",
   "execution_count": null,
   "metadata": {},
   "outputs": [],
   "source": []
  },
  {
   "cell_type": "code",
   "execution_count": 17,
   "metadata": {},
   "outputs": [
    {
     "name": "stdout",
     "output_type": "stream",
     "text": [
      "[0, 1, 2, 3, 4, 5, 6, 7, 8, 9, 10, 11, 12, 13, 14, 15, 16, 17, 18, 19]\n",
      "[19, 18, 17, 16, 15, 14, 13, 12, 11, 10, 9, 8, 7, 6, 5, 4, 3, 2, 1, 0]\n"
     ]
    }
   ],
   "source": [
    "tour = [i for i in range(20)]\n",
    "print(tour)\n",
    "print(tour[::-1])"
   ]
  },
  {
   "cell_type": "code",
   "execution_count": null,
   "metadata": {},
   "outputs": [],
   "source": []
  },
  {
   "cell_type": "code",
   "execution_count": 18,
   "metadata": {},
   "outputs": [
    {
     "name": "stdout",
     "output_type": "stream",
     "text": [
      "[0, 1, 2, 3, 4, 5, 6, 7, 8, 9, 10, 11, 12, 13, 19, 18, 17, 16, 15, 14]\n"
     ]
    }
   ],
   "source": [
    "test = rev_city(tour)\n",
    "print(test)"
   ]
  },
  {
   "cell_type": "code",
   "execution_count": null,
   "metadata": {},
   "outputs": [],
   "source": []
  },
  {
   "cell_type": "code",
   "execution_count": null,
   "metadata": {},
   "outputs": [],
   "source": []
  },
  {
   "cell_type": "markdown",
   "metadata": {},
   "source": [
    "#### Getting Started with Hill Climbing"
   ]
  },
  {
   "cell_type": "markdown",
   "metadata": {},
   "source": [
    "To start with Hill Climbing, we need two functions:\n",
    "- init function that returns a random solution\n",
    "- objective function that tells us how \"good\" a solution is\n",
    "\n",
    "For the TSP, an init function will just return a tour of correct length that has cities aranged in random order.\n",
    "\n",
    "The objective function will return the length of a tour.\n",
    "\n",
    "We need to ensure that init function takes no arguments and returns a tour of the correct length and the objective function takes one argument (the solution tour) and returns its length.\n",
    "\n",
    "Assume we have the city coordinates in a variable *coords* and our distance matrix in *matrix*, we can define the objective function and init function by using *init_random_tour*:"
   ]
  },
  {
   "cell_type": "code",
   "execution_count": 19,
   "metadata": {},
   "outputs": [],
   "source": [
    "def init_random_tour(tour_length):\n",
    "    tour = list(range(tour_length))\n",
    "    random.shuffle(list(tour))\n",
    "    return tour\n",
    "\n",
    "init_function = lambda: init_random_tour(len(coords))\n",
    "objective_function = lambda tour: tour_length(matrix, tour)"
   ]
  },
  {
   "cell_type": "markdown",
   "metadata": {},
   "source": [
    "#### Short Explanation of Lambda Functions\n",
    "is the creation of an anonymous function\n",
    "- lambda definition does not include a return statement\n",
    "- it always contains an expression which is returned\n",
    "- you can put a lambda definition anywhere a function is expected\n",
    "- you don't have to assign it to a variable"
   ]
  },
  {
   "cell_type": "code",
   "execution_count": 20,
   "metadata": {},
   "outputs": [
    {
     "name": "stdout",
     "output_type": "stream",
     "text": [
      "25\n",
      "25\n"
     ]
    }
   ],
   "source": [
    "# normal function definition\n",
    "def f(x): return x**2\n",
    "\n",
    "# lambda function definition\n",
    "g = lambda x: x**2\n",
    "print(f(5))\n",
    "print(g(5))"
   ]
  },
  {
   "cell_type": "markdown",
   "metadata": {},
   "source": [
    "## Basic Hill Climbing"
   ]
  },
  {
   "cell_type": "code",
   "execution_count": 21,
   "metadata": {},
   "outputs": [],
   "source": [
    "def hc(init_function, move_operator, objective_function, max_evaluations):\n",
    "    '''\n",
    "    Hillclimb until either max_evaluations is \n",
    "    reached or we are at a local optima.\n",
    "    '''\n",
    "    best = init_function()\n",
    "    best_score = objective_function(best)\n",
    "    \n",
    "    num_evaluations = 1\n",
    "    \n",
    "    while num_evaluations < max_evaluations:\n",
    "        # move around the current position\n",
    "        move_made = False\n",
    "        \n",
    "        #for next in move_operator(best):\n",
    "        #if num_evaluations >= max_evaluations:\n",
    "        #    break\n",
    "        \n",
    "        next = move_operator(best)\n",
    "        \n",
    "        next_score = objective_function(next)\n",
    "        num_evaluations += 1\n",
    "        if next_score < best_score:\n",
    "            best = next\n",
    "            best_score = next_score\n",
    "            move_made = True\n",
    "            #break # depth first search\n",
    "        #if not move_made:\n",
    "        #    break # couldn't find better move - must be a local max\n",
    "    return (num_evaluations, best_score, best)"
   ]
  },
  {
   "cell_type": "code",
   "execution_count": null,
   "metadata": {},
   "outputs": [],
   "source": []
  },
  {
   "cell_type": "code",
   "execution_count": 22,
   "metadata": {},
   "outputs": [],
   "source": [
    "from PIL import Image, ImageDraw, ImageFont\n",
    "\n",
    "def write_tour_to_img(coords, tour, title, img_file):\n",
    "    padding = 20\n",
    "    # shift all coords in a bit\n",
    "    coords = [(x+padding,y+padding) for (x,y) in coords]\n",
    "    maxx, maxy = 0,0\n",
    "    for x,y in coords:\n",
    "        maxx = max(x,maxx)\n",
    "        maxy = max(y,maxy)\n",
    "    maxx += padding\n",
    "    maxy += padding\n",
    "    img = Image.new(\"RGB\",(int(maxx), int(maxy)), color=(255,255,255))\n",
    "    \n",
    "    font=ImageFont.load_default()\n",
    "    d=ImageDraw.Draw(img);\n",
    "    num_cities = len(tour)\n",
    "    for i in range(num_cities):\n",
    "        j = (i+1) % num_cities\n",
    "        city_i = tour[i]\n",
    "        city_j = tour[j]\n",
    "        x1,y1 = coords[city_i]\n",
    "        x2,y2 = coords[city_j]\n",
    "        d.line((int(x1), int(y1), int(x2), int(y2)), fill=(0,0,0))\n",
    "        d.text((int(x1)+7, int(y1)-5), str(i), font=font, fill=(32,32,32))\n",
    "    \n",
    "    \n",
    "    for x,y in coords:\n",
    "        x,y = int(x), int(y)\n",
    "        d.ellipse((x-5, y-5, x+5, y+5), outline=(0,0,0), fill=(196,196,196))\n",
    "    \n",
    "    d.text((1,1), title, font=font, fill=(0,0,0))\n",
    "    \n",
    "    del d\n",
    "    img.save(img_file, \"PNG\")"
   ]
  },
  {
   "cell_type": "code",
   "execution_count": 23,
   "metadata": {},
   "outputs": [],
   "source": [
    "def reload_image_for_jupyter(filename):\n",
    "    # pick a random integer with 1 in 2 billion chance of getting the same\n",
    "    # integer twice\n",
    "    import random\n",
    "    __counter__ = random.randint(0,2e9)\n",
    "\n",
    "    # now use IPython's rich display to display the html image with the\n",
    "    # new argument\n",
    "    from IPython.display import HTML, display\n",
    "    display(HTML('<img src=\"./'+filename+'?%d\" alt=\"Schema of adaptive filter\" height=\"100\">' % __counter__))\n"
   ]
  },
  {
   "cell_type": "code",
   "execution_count": 24,
   "metadata": {},
   "outputs": [],
   "source": [
    "def do_hc_evaluations(evaluations , move_operator = swapped_cities):\n",
    "    max_evaluations = evaluations\n",
    "    then = datetime.datetime.now()\n",
    "    num_evaluations, best_score, best = hc(init_function, move_operator, objective_function, max_evaluations)\n",
    "    now = datetime.datetime.now()\n",
    "\n",
    "    print(\"computation time \", now - then)\n",
    "    print(\"best score:\", best_score)\n",
    "    print(\"best route:\", best)\n",
    "    filename = \"test\"+str(max_evaluations)+\".PNG\"\n",
    "    write_tour_to_img(coords, best, filename, open(filename, \"ab\"))\n",
    "    reload_image_for_jupyter(filename)"
   ]
  },
  {
   "cell_type": "code",
   "execution_count": 25,
   "metadata": {},
   "outputs": [
    {
     "name": "stdout",
     "output_type": "stream",
     "text": [
      "computation time  0:00:00.081005\n",
      "best score: 13640.49167026669\n",
      "best route: [99, 0, 39, 7, 70, 71, 74, 38, 42, 46, 19, 31, 10, 90, 15, 72, 55, 47, 65, 52, 94, 25, 6, 62, 48, 49, 89, 87, 44, 66, 92, 68, 77, 79, 50, 73, 56, 18, 84, 54, 67, 88, 36, 34, 61, 23, 41, 1, 76, 53, 83, 64, 51, 22, 21, 20, 86, 85, 11, 75, 80, 26, 16, 63, 78, 96, 59, 5, 35, 12, 58, 45, 2, 32, 13, 3, 97, 4, 95, 37, 93, 91, 40, 98, 43, 57, 33, 81, 24, 17, 27, 29, 28, 8, 9, 30, 82, 60, 69, 14]\n"
     ]
    },
    {
     "data": {
      "text/html": [
       "<img src=\"./test500.PNG?921110428\" alt=\"Schema of adaptive filter\" height=\"100\">"
      ],
      "text/plain": [
       "<IPython.core.display.HTML object>"
      ]
     },
     "metadata": {},
     "output_type": "display_data"
    }
   ],
   "source": [
    "move_operator = swapped_cities\n",
    "#move_operator = reversed_sections\n",
    "move_operator = rev_city\n",
    "max_evaluations = 500\n",
    "do_hc_evaluations(max_evaluations,move_operator)"
   ]
  },
  {
   "cell_type": "code",
   "execution_count": null,
   "metadata": {},
   "outputs": [],
   "source": []
  },
  {
   "cell_type": "code",
   "execution_count": null,
   "metadata": {},
   "outputs": [],
   "source": []
  },
  {
   "cell_type": "code",
   "execution_count": 26,
   "metadata": {},
   "outputs": [
    {
     "name": "stdout",
     "output_type": "stream",
     "text": [
      "computation time  0:00:00.606035\n",
      "best score: 5962.372181496458\n",
      "best route: [63, 90, 3, 84, 51, 97, 26, 78, 16, 61, 36, 18, 67, 88, 34, 21, 96, 10, 73, 86, 56, 92, 99, 50, 31, 30, 9, 39, 35, 0, 68, 5, 44, 66, 77, 69, 59, 60, 81, 42, 85, 49, 74, 57, 7, 46, 82, 87, 33, 70, 17, 29, 89, 24, 27, 91, 40, 25, 98, 2, 28, 83, 4, 79, 20, 19, 8, 14, 43, 38, 23, 22, 41, 54, 65, 94, 95, 72, 76, 55, 37, 45, 58, 53, 52, 11, 93, 6, 12, 75, 62, 80, 13, 64, 71, 32, 15, 47, 48, 1]\n"
     ]
    },
    {
     "data": {
      "text/html": [
       "<img src=\"./test5000.PNG?1431862610\" alt=\"Schema of adaptive filter\" height=\"100\">"
      ],
      "text/plain": [
       "<IPython.core.display.HTML object>"
      ]
     },
     "metadata": {},
     "output_type": "display_data"
    }
   ],
   "source": [
    "#move_operator = swapped_cities\n",
    "#move_operator = reversed_sections\n",
    "move_operator = rev_city\n",
    "max_evaluations = 5000\n",
    "do_hc_evaluations(max_evaluations,move_operator)"
   ]
  },
  {
   "cell_type": "code",
   "execution_count": 27,
   "metadata": {
    "scrolled": false
   },
   "outputs": [
    {
     "name": "stdout",
     "output_type": "stream",
     "text": [
      "computation time  0:00:05.776331\n",
      "best score: 4181.679241742817\n",
      "best route: [84, 26, 78, 90, 97, 3, 51, 48, 65, 47, 52, 13, 53, 71, 15, 32, 94, 55, 76, 95, 72, 58, 37, 45, 6, 93, 12, 75, 2, 42, 28, 74, 83, 85, 4, 80, 62, 64, 11, 49, 38, 43, 8, 14, 19, 30, 9, 50, 31, 20, 79, 59, 57, 7, 81, 46, 98, 25, 40, 91, 27, 17, 29, 89, 24, 70, 33, 87, 60, 69, 82, 99, 77, 44, 66, 92, 5, 68, 0, 35, 39, 56, 86, 73, 10, 96, 21, 34, 88, 67, 18, 22, 23, 63, 1, 41, 61, 36, 16, 54]\n"
     ]
    },
    {
     "data": {
      "text/html": [
       "<img src=\"./test50000.PNG?508626272\" alt=\"Schema of adaptive filter\" height=\"100\">"
      ],
      "text/plain": [
       "<IPython.core.display.HTML object>"
      ]
     },
     "metadata": {},
     "output_type": "display_data"
    }
   ],
   "source": [
    "#move_operator = swapped_cities\n",
    "#move_operator = reversed_sections\n",
    "move_operator = rev_city\n",
    "max_evaluations = 50000\n",
    "do_hc_evaluations(max_evaluations,move_operator)"
   ]
  },
  {
   "cell_type": "code",
   "execution_count": null,
   "metadata": {},
   "outputs": [],
   "source": []
  },
  {
   "cell_type": "code",
   "execution_count": null,
   "metadata": {},
   "outputs": [],
   "source": []
  },
  {
   "cell_type": "markdown",
   "metadata": {},
   "source": [
    "## Next: your turn on the exercise sheet"
   ]
  },
  {
   "cell_type": "code",
   "execution_count": null,
   "metadata": {},
   "outputs": [],
   "source": []
  },
  {
   "cell_type": "code",
   "execution_count": 29,
   "metadata": {},
   "outputs": [],
   "source": [
    "#Tabu Search"
   ]
  },
  {
   "cell_type": "code",
   "execution_count": 30,
   "metadata": {},
   "outputs": [],
   "source": [
    "import collections\n",
    "def tabuSearch(init_function, move_operator, objective_function, max_evaluations, number_of_tweaks,tabuLength):\n",
    "   \n",
    "    s = init_function()\n",
    "    s_score = objective_function(s)\n",
    "    \n",
    "    best = s\n",
    "    best_score = s_score\n",
    "    \n",
    "    num_evaluations = 1\n",
    "    \n",
    "    L=collections.deque()\n",
    "    L.append(s_score)\n",
    "    \n",
    "    while num_evaluations < max_evaluations:\n",
    "        # move around the current position\n",
    "        if len(L)>tabuLength:\n",
    "            L.popleft()\n",
    "        move_made = False\n",
    "        r = move_operator(s)\n",
    "        r_score = objective_function(r)\n",
    "        \n",
    "        for i in range(number_of_tweaks-1):\n",
    "            w = move_operator(s)\n",
    "            w_score = objective_function(w)\n",
    "            if w_score not in L and (w_score < r_score or r_score in L) :\n",
    "                r = w\n",
    "                r_score = w_score\n",
    "                \n",
    "        if r_score not in L and r_score < s_score :\n",
    "            s = r\n",
    "            s_score = r_score\n",
    "            L.append(r_score)\n",
    "                \n",
    "        num_evaluations += 1\n",
    "        if s_score < best_score:\n",
    "            best = s\n",
    "            best_score = s_score\n",
    "            move_made = True\n",
    "            #break # depth first search\n",
    "        #if not move_made:\n",
    "        #    break # couldn't find better move - must be a local max\n",
    "    return (num_evaluations, best_score, best)"
   ]
  },
  {
   "cell_type": "code",
   "execution_count": null,
   "metadata": {},
   "outputs": [],
   "source": []
  },
  {
   "cell_type": "code",
   "execution_count": 40,
   "metadata": {},
   "outputs": [],
   "source": [
    "def do_TabuSearch_evaluations(evaluations , number_of_tweaks, tabuLength,move_operator = rev_city):\n",
    "    max_evaluations = evaluations\n",
    "    then = datetime.datetime.now()\n",
    "    num_evaluations, best_score, best = tabuSearch(init_function, move_operator, objective_function, max_evaluations, number_of_tweaks,tabuLength)\n",
    "    now = datetime.datetime.now()\n",
    "\n",
    "    print(\"computation time \", now - then)\n",
    "    print(\"best score:\", best_score)\n",
    "    print(\"best route:\", best)\n",
    "    filename = \"test\"+str(max_evaluations)+\".PNG\"\n",
    "    write_tour_to_img(coords, best, filename, open(filename, \"ab\"))\n",
    "    reload_image_for_jupyter(filename)"
   ]
  },
  {
   "cell_type": "code",
   "execution_count": null,
   "metadata": {},
   "outputs": [],
   "source": []
  },
  {
   "cell_type": "code",
   "execution_count": 41,
   "metadata": {},
   "outputs": [
    {
     "name": "stdout",
     "output_type": "stream",
     "text": [
      "computation time  0:00:05.918338\n",
      "best score: 4467.981651671048\n",
      "best route: [5, 68, 35, 39, 0, 92, 66, 77, 82, 59, 79, 20, 31, 14, 8, 43, 49, 38, 23, 96, 10, 19, 99, 50, 30, 9, 56, 86, 73, 21, 34, 88, 67, 22, 18, 36, 16, 61, 41, 63, 1, 78, 26, 54, 84, 51, 3, 90, 97, 48, 65, 47, 52, 11, 64, 13, 53, 71, 15, 32, 94, 55, 76, 95, 72, 58, 37, 45, 6, 93, 12, 75, 62, 80, 4, 28, 85, 83, 74, 57, 81, 7, 42, 2, 25, 98, 40, 91, 89, 29, 17, 27, 46, 70, 24, 33, 87, 60, 69, 44]\n"
     ]
    },
    {
     "data": {
      "text/html": [
       "<img src=\"./test5000.PNG?293616317\" alt=\"Schema of adaptive filter\" height=\"100\">"
      ],
      "text/plain": [
       "<IPython.core.display.HTML object>"
      ]
     },
     "metadata": {},
     "output_type": "display_data"
    }
   ],
   "source": [
    "#move_operator = swapped_cities\n",
    "#move_operator = reversed_sections\n",
    "move_operator = rev_city\n",
    "max_evaluations = 5000\n",
    "number_of_tweaks = 10\n",
    "tabuLength=20\n",
    "do_TabuSearch_evaluations(max_evaluations,number_of_tweaks,tabuLength, move_operator)"
   ]
  },
  {
   "cell_type": "code",
   "execution_count": null,
   "metadata": {},
   "outputs": [],
   "source": []
  },
  {
   "cell_type": "code",
   "execution_count": null,
   "metadata": {},
   "outputs": [],
   "source": []
  },
  {
   "cell_type": "code",
   "execution_count": null,
   "metadata": {},
   "outputs": [],
   "source": []
  },
  {
   "cell_type": "code",
   "execution_count": null,
   "metadata": {},
   "outputs": [],
   "source": []
  },
  {
   "cell_type": "code",
   "execution_count": null,
   "metadata": {},
   "outputs": [],
   "source": []
  },
  {
   "cell_type": "code",
   "execution_count": null,
   "metadata": {},
   "outputs": [],
   "source": []
  },
  {
   "cell_type": "code",
   "execution_count": null,
   "metadata": {},
   "outputs": [],
   "source": []
  },
  {
   "cell_type": "code",
   "execution_count": null,
   "metadata": {},
   "outputs": [],
   "source": []
  },
  {
   "cell_type": "code",
   "execution_count": null,
   "metadata": {},
   "outputs": [],
   "source": []
  }
 ],
 "metadata": {
  "kernelspec": {
   "display_name": "Python 3",
   "language": "python",
   "name": "python3"
  },
  "language_info": {
   "codemirror_mode": {
    "name": "ipython",
    "version": 3
   },
   "file_extension": ".py",
   "mimetype": "text/x-python",
   "name": "python",
   "nbconvert_exporter": "python",
   "pygments_lexer": "ipython3",
   "version": "3.6.4"
  }
 },
 "nbformat": 4,
 "nbformat_minor": 2
}
